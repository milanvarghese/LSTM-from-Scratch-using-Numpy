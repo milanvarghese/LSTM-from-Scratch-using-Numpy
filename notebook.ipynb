{
 "cells": [
  {
   "cell_type": "code",
   "execution_count": 2,
   "metadata": {},
   "outputs": [
    {
     "name": "stdout",
     "output_type": "stream",
     "text": [
      "Loaded Poem Dataset:\n",
      "Roses are red,\n",
      "Violets are blue,\n",
      "The sky is clear,\n",
      "And so are you.\n",
      "\n",
      "The moon is bright,\n",
      "The stars do shine,\n",
      "The night is calm,\n",
      "A perfect sign.\n"
     ]
    }
   ],
   "source": [
    "import os\n",
    "\n",
    "# Path to the dataset file\n",
    "data_file_path = os.path.join(\"data\", \"data.txt\")\n",
    "\n",
    "# Read the poem dataset\n",
    "with open(data_file_path, \"r\") as file:\n",
    "    poem_text = file.read()\n",
    "\n",
    "print(\"Loaded Poem Dataset:\")\n",
    "print(poem_text)\n"
   ]
  },
  {
   "cell_type": "code",
   "execution_count": 7,
   "metadata": {},
   "outputs": [
    {
     "data": {
      "text/plain": [
       "351"
      ]
     },
     "execution_count": 7,
     "metadata": {},
     "output_type": "execute_result"
    }
   ],
   "source": [
    "import os\n",
    "data_file_path = os.path.join(\"data\", \"data.txt\")\n",
    "with open(data_file_path, \"r\") as file:\n",
    "    poem_text = file.read()\n",
    "words = poem_text.split(\" \")\n",
    "len(words)\n",
    "set_word = set(words)\n",
    "\n",
    "\n"
   ]
  },
  {
   "cell_type": "code",
   "execution_count": 8,
   "metadata": {},
   "outputs": [
    {
     "ename": "ModuleNotFoundError",
     "evalue": "No module named 'bpe'",
     "output_type": "error",
     "traceback": [
      "\u001b[0;31m---------------------------------------------------------------------------\u001b[0m",
      "\u001b[0;31mModuleNotFoundError\u001b[0m                       Traceback (most recent call last)",
      "Cell \u001b[0;32mIn[8], line 1\u001b[0m\n\u001b[0;32m----> 1\u001b[0m \u001b[39mfrom\u001b[39;00m\u001b[39m \u001b[39m\u001b[39msrc\u001b[39;00m\u001b[39m.\u001b[39;00m\u001b[39mbpe\u001b[39;00m\u001b[39m \u001b[39m\u001b[39mimport\u001b[39;00m byte_pair_encoding\n",
      "File \u001b[0;32m~/Developer/deep_learning_course/LSTM-from-Scratch-using-Numpy/src/__init__.py:7\u001b[0m\n\u001b[1;32m      5\u001b[0m \u001b[39mfrom\u001b[39;00m\u001b[39m \u001b[39m\u001b[39m.\u001b[39;00m\u001b[39mOptimizer\u001b[39;00m\u001b[39m \u001b[39m\u001b[39mimport\u001b[39;00m \u001b[39m*\u001b[39m\n\u001b[1;32m      6\u001b[0m \u001b[39mfrom\u001b[39;00m\u001b[39m \u001b[39m\u001b[39m.\u001b[39;00m\u001b[39mLayer\u001b[39;00m\u001b[39m \u001b[39m\u001b[39mimport\u001b[39;00m \u001b[39m*\u001b[39m\n\u001b[0;32m----> 7\u001b[0m \u001b[39mfrom\u001b[39;00m\u001b[39m \u001b[39m\u001b[39mbpe\u001b[39;00m\u001b[39m \u001b[39m\u001b[39mimport\u001b[39;00m \u001b[39m*\u001b[39m\n",
      "\u001b[0;31mModuleNotFoundError\u001b[0m: No module named 'bpe'"
     ]
    }
   ],
   "source": [
    "from src.bpe import byte_pair_encoding\n"
   ]
  },
  {
   "cell_type": "code",
   "execution_count": null,
   "metadata": {},
   "outputs": [],
   "source": []
  }
 ],
 "metadata": {
  "kernelspec": {
   "display_name": "Python 3",
   "language": "python",
   "name": "python3"
  },
  "language_info": {
   "codemirror_mode": {
    "name": "ipython",
    "version": 3
   },
   "file_extension": ".py",
   "mimetype": "text/x-python",
   "name": "python",
   "nbconvert_exporter": "python",
   "pygments_lexer": "ipython3",
   "version": "3.10.12"
  }
 },
 "nbformat": 4,
 "nbformat_minor": 2
}
