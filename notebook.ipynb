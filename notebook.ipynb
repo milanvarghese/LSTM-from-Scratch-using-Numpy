{
 "cells": [
  {
   "cell_type": "code",
   "execution_count": 2,
   "metadata": {},
   "outputs": [
    {
     "name": "stdout",
     "output_type": "stream",
     "text": [
      "Loaded Poem Dataset:\n",
      "Roses are red,\n",
      "Violets are blue,\n",
      "The sky is clear,\n",
      "And so are you.\n",
      "\n",
      "The moon is bright,\n",
      "The stars do shine,\n",
      "The night is calm,\n",
      "A perfect sign.\n"
     ]
    }
   ],
   "source": [
    "import os\n",
    "\n",
    "# Path to the dataset file\n",
    "data_file_path = os.path.join(\"data\", \"data.txt\")\n",
    "\n",
    "# Read the poem dataset\n",
    "with open(data_file_path, \"r\") as file:\n",
    "    poem_text = file.read()\n",
    "\n",
    "print(\"Loaded Poem Dataset:\")\n",
    "print(poem_text)\n"
   ]
  },
  {
   "cell_type": "code",
   "execution_count": null,
   "metadata": {},
   "outputs": [],
   "source": []
  }
 ],
 "metadata": {
  "kernelspec": {
   "display_name": "Python 3",
   "language": "python",
   "name": "python3"
  },
  "language_info": {
   "codemirror_mode": {
    "name": "ipython",
    "version": 3
   },
   "file_extension": ".py",
   "mimetype": "text/x-python",
   "name": "python",
   "nbconvert_exporter": "python",
   "pygments_lexer": "ipython3",
   "version": "3.10.12"
  }
 },
 "nbformat": 4,
 "nbformat_minor": 2
}
